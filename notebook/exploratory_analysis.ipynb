# Here’s a Python code outline for the notebook. You can copy and paste it into your Jupyter notebook interface.
python
# 🧪 Exploratory Analysis – Hospital Readmission Dataset

import pandas as pd
import seaborn as sns
import matplotlib.pyplot as plt

# Load dataset
df = pd.read_csv("data/patient_data.csv")

# Basic overview
df.info()
df.describe()

# Check for missing values
missing = df.isnull().sum()
print("Missing values:\n", missing)

# Class balance
sns.countplot(x="readmitted", data=df)
plt.title("Readmission Class Balance")
plt.show()

# Age vs Readmission
sns.boxplot(x="readmitted", y="age", data=df)
plt.title("Age Distribution by Readmission Status")
plt.show()

# Length of Stay vs Readmission
sns.boxplot(x="readmitted", y="length_of_stay", data=df)
plt.title("Length of Stay Distribution by Readmission")
plt.show()

# Correlation heatmap
numeric_cols = df.select_dtypes(include=["float64", "int64"]).columns
plt.figure(figsize=(10, 6))
sns.heatmap(df[numeric_cols].corr(), annot=True, cmap="coolwarm")
plt.title("Correlation Matrix")
plt.show()
